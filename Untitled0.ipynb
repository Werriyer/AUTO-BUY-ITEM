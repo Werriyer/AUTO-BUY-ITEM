{
  "nbformat": 4,
  "nbformat_minor": 0,
  "metadata": {
    "colab": {
      "provenance": [],
      "include_colab_link": true
    },
    "kernelspec": {
      "name": "python3",
      "display_name": "Python 3"
    },
    "language_info": {
      "name": "python"
    }
  },
  "cells": [
    {
      "cell_type": "markdown",
      "metadata": {
        "id": "view-in-github",
        "colab_type": "text"
      },
      "source": [
        "<a href=\"https://colab.research.google.com/github/Werriyer/AUTO-BUY-ITEM/blob/main/Untitled0.ipynb\" target=\"_parent\"><img src=\"https://colab.research.google.com/assets/colab-badge.svg\" alt=\"Open In Colab\"/></a>"
      ]
    },
    {
      "cell_type": "code",
      "execution_count": null,
      "metadata": {
        "id": "um7qUUfi2Eb8"
      },
      "outputs": [],
      "source": []
    },
    {
      "cell_type": "code",
      "source": [],
      "metadata": {
        "colab": {
          "base_uri": "https://localhost:8080/"
        },
        "id": "-lq0rCOR2Nnd",
        "outputId": "73b69a4a-f5b1-4bb5-d734-74afc86ee886"
      },
      "execution_count": null,
      "outputs": [
        {
          "output_type": "stream",
          "name": "stdout",
          "text": [
            "grade A\n"
          ]
        }
      ]
    },
    {
      "cell_type": "code",
      "source": [
        "\n"
      ],
      "metadata": {
        "id": "jjyCHBhv2Pxh"
      },
      "execution_count": null,
      "outputs": []
    },
    {
      "cell_type": "code",
      "metadata": {
        "id": "cee66b4b",
        "colab": {
          "base_uri": "https://localhost:8080/"
        },
        "outputId": "a048f5c9-c959-44f2-e0ab-05c406d16c03"
      },
      "source": [
        "score = 50\n",
        "if score >= 80:\n",
        "  print(\"grade A\")\n",
        "elif 70 <= score < 80:\n",
        "  print(\"grade B\")\n",
        "elif 60 <= score < 70:\n",
        "  print(\"grade C\")\n",
        "elif 50 <= score < 60:\n",
        "  print(\"grade D\")\n",
        "elif 49 <= score:\n",
        "  print(\"grade F\")"
      ],
      "execution_count": 15,
      "outputs": [
        {
          "output_type": "stream",
          "name": "stdout",
          "text": [
            "grade D\n"
          ]
        }
      ]
    },
    {
      "cell_type": "code",
      "source": [],
      "metadata": {
        "id": "zU5NyAW74-UP"
      },
      "execution_count": null,
      "outputs": []
    }
  ]
}